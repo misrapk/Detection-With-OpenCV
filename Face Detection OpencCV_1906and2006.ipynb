{
 "cells": [
  {
   "cell_type": "code",
   "execution_count": null,
   "metadata": {},
   "outputs": [],
   "source": [
    "import cv2"
   ]
  },
  {
   "cell_type": "code",
   "execution_count": null,
   "metadata": {},
   "outputs": [],
   "source": [
    "link = 'E:\\\\piyush\\\\sports\\\\sachin\\\\1780866.jpg'\n",
    "img  = cv2.imread(link, cv2.IMREAD_COLOR)\n",
    "img.shape"
   ]
  },
  {
   "cell_type": "code",
   "execution_count": null,
   "metadata": {},
   "outputs": [],
   "source": [
    "cv2.imshow('Title', img)   #to show the image"
   ]
  },
  {
   "cell_type": "code",
   "execution_count": null,
   "metadata": {
    "scrolled": true
   },
   "outputs": [],
   "source": [
    "#after loading make rectangle\n",
    "cv2.rectangle(img,(20,150),(60,150), (0,0,255),3)\n",
    "\n",
    "#TO MAKE CIRCLE\n",
    "cv2.circle(img,(250,190),50,(255,0,0),5)"
   ]
  },
  {
   "cell_type": "code",
   "execution_count": null,
   "metadata": {},
   "outputs": [],
   "source": [
    "cv2.waitKey(0)    #0 indexing is use to show the image"
   ]
  },
  {
   "cell_type": "code",
   "execution_count": null,
   "metadata": {},
   "outputs": [],
   "source": [
    "cv2.destroyAllWindows()"
   ]
  },
  {
   "cell_type": "code",
   "execution_count": null,
   "metadata": {},
   "outputs": [],
   "source": []
  },
  {
   "cell_type": "code",
   "execution_count": null,
   "metadata": {},
   "outputs": [],
   "source": []
  },
  {
   "cell_type": "code",
   "execution_count": null,
   "metadata": {},
   "outputs": [],
   "source": [
    "# image from video\n",
    "import cv2\n",
    "cap= cv2.VideoCapture(0)\n",
    "while(cap.isOpened()):\n",
    "    ind, img = cap.read()    #ind will give the boolean value\n",
    "    if ind:\n",
    "        gray =cv2.cvtColor(img,cv2.IMREAD_COLOR)\n",
    "        cv2.imshow('frame', gray)\n",
    "        cv2.imwrite('myimg.jpg', gray)\n",
    "    if cv2.waitKey(1) & 0xFF == ord('q'):\n",
    "        break\n",
    "cap.release()\n",
    "cv2.destroyAllWindows()\n"
   ]
  },
  {
   "cell_type": "code",
   "execution_count": null,
   "metadata": {},
   "outputs": [],
   "source": []
  },
  {
   "cell_type": "markdown",
   "metadata": {},
   "source": [
    "#### To resize the image"
   ]
  },
  {
   "cell_type": "code",
   "execution_count": null,
   "metadata": {},
   "outputs": [],
   "source": [
    "import cv2\n",
    "img = cv2.imread('E:\\\\piyush\\\\sports\\\\sachin\\\\1780866.jpg')\n",
    "size = img.shape\n",
    "dim= (size[0]//2,size[1]//3)\n",
    "resized = cv2.resize(img,dim,interpolation = cv2.INTER_AREA)\n",
    "cv2.imshow('blog',resized)\n",
    "cv2.waitKey(0)\n",
    "cv2.destroyAllWindows"
   ]
  },
  {
   "cell_type": "code",
   "execution_count": null,
   "metadata": {},
   "outputs": [],
   "source": []
  },
  {
   "cell_type": "code",
   "execution_count": null,
   "metadata": {},
   "outputs": [],
   "source": []
  },
  {
   "cell_type": "markdown",
   "metadata": {},
   "source": [
    "# lecture 2 20 june"
   ]
  },
  {
   "cell_type": "code",
   "execution_count": 1,
   "metadata": {},
   "outputs": [],
   "source": [
    "#to make the square on face\n",
    "\n",
    "import cv2 \n",
    "fd = cv2.CascadeClassifier('E:\\Training Ducat\\documents of ml\\haarcascade_frontalface_default.xml')\n",
    "# cam = cv2.VideoCapture(\"http://10.163.26.232:8080/\")\n",
    "cam = cv2.VideoCapture(0)\n",
    "#img = cv2.imread('E:\\\\piyush\\\\sports\\\\sachin\\\\1780866.jpg', cv2.IMREAD_COLOR)\n",
    "while True:\n",
    "    ret, img = cam.read()\n",
    "    #img = cv2.imread('E:\\piyush\\coding\\Training Ducat\\pk1\\Photo_editing_photoshop_effects_Photoshop_face_swap_NIK13.zone_6.head_swap_after.jpg', cv2.IMREAD_COLOR)\n",
    "    gray = cv2.cvtColor(img,cv2.COLOR_BGR2GRAY)\n",
    "    faces = fd.detectMultiScale(gray, 1.1,5, minSize=(30,30))     #to detect the specific portion of face\n",
    "    \n",
    "    for (x,y,w,h) in faces:\n",
    "        cv2.rectangle(img,(x,y),(x+w,y+h), (0,0,255),2)\n",
    "    cv2.imshow('faces',img)\n",
    "    if (cv2.waitKey(1)== ord('q')):\n",
    "        break\n",
    "            \n",
    "cam.release()\n",
    "cv2.destroyAllWindows()\n",
    "\n",
    "\n",
    "path = \"E:\\piyush\\sports\\720221-clarke.jpg\"\n"
   ]
  },
  {
   "cell_type": "code",
   "execution_count": null,
   "metadata": {},
   "outputs": [],
   "source": []
  },
  {
   "cell_type": "markdown",
   "metadata": {},
   "source": [
    "#### write video"
   ]
  },
  {
   "cell_type": "code",
   "execution_count": null,
   "metadata": {},
   "outputs": [],
   "source": [
    "import cv2\n",
    "cam = cv2.VideoCapture(0)\n",
    "fourcc = cv2.VideoWriter_fourcc(*'XVID')\n",
    "out = cv2.VideoWriter('vid.avi',fourcc, 15.0,(640,480))\n",
    "\n",
    "while cam.isOpened():\n",
    "    i,frame = cam.read()\n",
    "    if i :\n",
    "        gray = cv2.cvtColor(frame,cv2.IMREAD_COLOR)\n",
    "        out.write(frame)\n",
    "        cv2.imshow('Title', gray)\n",
    "    if cv2.waitKey(1) & 0xFF ==ord('q'):\n",
    "        break\n",
    "cam.release()\n",
    "cv2.destroyAllWindows()"
   ]
  },
  {
   "cell_type": "code",
   "execution_count": null,
   "metadata": {},
   "outputs": [],
   "source": []
  },
  {
   "cell_type": "markdown",
   "metadata": {},
   "source": [
    "#### to write text on image"
   ]
  },
  {
   "cell_type": "code",
   "execution_count": 2,
   "metadata": {},
   "outputs": [
    {
     "ename": "error",
     "evalue": "OpenCV(4.1.0) C:\\projects\\opencv-python\\opencv\\modules\\highgui\\src\\window.cpp:352: error: (-215:Assertion failed) size.width>0 && size.height>0 in function 'cv::imshow'\n",
     "output_type": "error",
     "traceback": [
      "\u001b[1;31m---------------------------------------------------------------------------\u001b[0m",
      "\u001b[1;31merror\u001b[0m                                     Traceback (most recent call last)",
      "\u001b[1;32m<ipython-input-2-5e23c6d7a266>\u001b[0m in \u001b[0;36m<module>\u001b[1;34m\u001b[0m\n\u001b[0;32m      9\u001b[0m \u001b[0mcv2\u001b[0m\u001b[1;33m.\u001b[0m\u001b[0mline\u001b[0m\u001b[1;33m(\u001b[0m\u001b[0mimg\u001b[0m\u001b[1;33m,\u001b[0m\u001b[1;33m(\u001b[0m\u001b[1;36m100\u001b[0m\u001b[1;33m,\u001b[0m\u001b[1;36m100\u001b[0m\u001b[1;33m)\u001b[0m\u001b[1;33m,\u001b[0m \u001b[1;33m(\u001b[0m\u001b[1;36m170\u001b[0m\u001b[1;33m,\u001b[0m\u001b[1;36m100\u001b[0m\u001b[1;33m)\u001b[0m\u001b[1;33m,\u001b[0m\u001b[1;33m(\u001b[0m\u001b[1;36m0\u001b[0m\u001b[1;33m,\u001b[0m\u001b[1;36m0\u001b[0m\u001b[1;33m,\u001b[0m\u001b[1;36m255\u001b[0m\u001b[1;33m)\u001b[0m\u001b[1;33m,\u001b[0m\u001b[1;36m8\u001b[0m\u001b[1;33m)\u001b[0m\u001b[1;33m\u001b[0m\u001b[1;33m\u001b[0m\u001b[0m\n\u001b[0;32m     10\u001b[0m \u001b[1;33m\u001b[0m\u001b[0m\n\u001b[1;32m---> 11\u001b[1;33m \u001b[0mcv2\u001b[0m\u001b[1;33m.\u001b[0m\u001b[0mimshow\u001b[0m\u001b[1;33m(\u001b[0m\u001b[1;34m'TITLE'\u001b[0m\u001b[1;33m,\u001b[0m\u001b[0mimg\u001b[0m\u001b[1;33m)\u001b[0m\u001b[1;33m\u001b[0m\u001b[1;33m\u001b[0m\u001b[0m\n\u001b[0m\u001b[0;32m     12\u001b[0m \u001b[0mcv2\u001b[0m\u001b[1;33m.\u001b[0m\u001b[0mwaitKey\u001b[0m\u001b[1;33m(\u001b[0m\u001b[1;36m0\u001b[0m\u001b[1;33m)\u001b[0m\u001b[1;33m\u001b[0m\u001b[1;33m\u001b[0m\u001b[0m\n\u001b[0;32m     13\u001b[0m \u001b[0mcv2\u001b[0m\u001b[1;33m.\u001b[0m\u001b[0mdestroyAllWindows\u001b[0m\u001b[1;33m(\u001b[0m\u001b[1;33m)\u001b[0m\u001b[1;33m\u001b[0m\u001b[1;33m\u001b[0m\u001b[0m\n",
      "\u001b[1;31merror\u001b[0m: OpenCV(4.1.0) C:\\projects\\opencv-python\\opencv\\modules\\highgui\\src\\window.cpp:352: error: (-215:Assertion failed) size.width>0 && size.height>0 in function 'cv::imshow'\n"
     ]
    }
   ],
   "source": [
    "import cv2\n",
    "path = \"E:\\piyush\\sports\\720221-clarke.jpg\"\n",
    "img = cv2.imread('E:\\\\piyush\\\\sports\\\\sachin\\\\1780866.jpg', cv2.IMREAD_COLOR)\n",
    "font = cv2.FONT_HERSHEY_TRIPLEX\n",
    "#a= input(\"enter text: \")\n",
    "cv2.putText(img,'Sachin', (70,250), font, 2, (0,255,100), 3,cv2.LINE_8)\n",
    "\n",
    "#for line\n",
    "cv2.line(img,(100,100), (170,100),(0,0,255),8)\n",
    "\n",
    "cv2.imshow('TITLE',img)\n",
    "cv2.waitKey(0)\n",
    "cv2.destroyAllWindows()"
   ]
  },
  {
   "cell_type": "code",
   "execution_count": null,
   "metadata": {},
   "outputs": [],
   "source": []
  },
  {
   "cell_type": "markdown",
   "metadata": {},
   "source": [
    "##### to draw the circle on mouse click"
   ]
  },
  {
   "cell_type": "code",
   "execution_count": null,
   "metadata": {},
   "outputs": [],
   "source": [
    "import cv2\n",
    "import numpy as np\n",
    "#mouse callback function\n",
    "def draw_circle(event,x,y,flags,param):\n",
    "\tif event ==cv2.EVENT_LBUTTONDBLCLK:\n",
    "\t\tcv2.circle(img,(x,y), 50,(0,0,75), -1)\n",
    "#create a black image a window and bind the funciton image window\n",
    "#img = np.zeros((512,512,3))\n",
    "img = cv2.imread('E:\\\\piyush\\\\sports\\\\sachin\\\\1780866.jpg', cv2.IMREAD_COLOR)\n",
    "cv2.namedWindow('image')\n",
    "cv2.setMouseCallback('image',draw_circle)\n",
    "\n",
    "while(1):\n",
    " \tcv2.imshow('image',img)\n",
    " \tif cv2.waitKey(1) & 0xFF ==27:    # 27 is for esc key\n",
    " \t\tbreak\n",
    "cv2.destroyAllWindows()"
   ]
  },
  {
   "cell_type": "code",
   "execution_count": null,
   "metadata": {},
   "outputs": [],
   "source": []
  },
  {
   "cell_type": "markdown",
   "metadata": {},
   "source": [
    "### free hand drawing"
   ]
  },
  {
   "cell_type": "code",
   "execution_count": 1,
   "metadata": {},
   "outputs": [],
   "source": [
    "import cv2\n",
    "import numpy as np\n",
    "drawing = False    # trye if mouse is pressed\n",
    "mode = True  #if True, drw rectangle. Press 'm' to toggle to curve\n",
    "\n",
    "ix,iy= -1,-1\n",
    "\n",
    "#mouse callback function \n",
    "def draw_circle(event,x,y,flags,param):\n",
    "    global ix,iy,drawing, mode\n",
    "    if event ==cv2.EVENT_LBUTTONDOWN:\n",
    "        drawing = True\n",
    "        ix,iy= x,y\n",
    "    elif event == cv2.EVENT_MOUSEMOVE:\n",
    "        if drawing ==True:\n",
    "            if mode ==True:\n",
    "                cv2.rectangle(img,(ix,iy),(x,y), (0,255,0), -1)\n",
    "            else:\n",
    "                cv2.circle(img,(x,y),5,(0,0,250),-1)\n",
    "    elif event == cv2.EVENT_LBUTTONUP:\n",
    "        drawing ==False\n",
    "        if mode == True:\n",
    "            cv2.rectangle(img,(ix,iy), (x,y), (0,300,200),-1)\n",
    "        else:\n",
    "            cv2.circle(img, (x,y), 3,(0,0,240),-1)\n",
    "img = np.zeros((512,512,3),np.uint8)\n",
    "cv2.namedWindow('image')\n",
    "cv2.setMouseCallback('image',draw_circle)\n",
    "    \n",
    "while(1):\n",
    "        cv2.imshow('image',img)\n",
    "        key = cv2.waitKey(1) & 0xFF\n",
    "        if key == ord('m'):\n",
    "            mode = not mode\n",
    "        elif key ==27:\n",
    "            break\n",
    "cv2.destroyAllWindows()"
   ]
  },
  {
   "cell_type": "code",
   "execution_count": null,
   "metadata": {},
   "outputs": [],
   "source": []
  },
  {
   "cell_type": "code",
   "execution_count": null,
   "metadata": {},
   "outputs": [],
   "source": []
  },
  {
   "cell_type": "code",
   "execution_count": null,
   "metadata": {},
   "outputs": [],
   "source": []
  }
 ],
 "metadata": {
  "kernelspec": {
   "display_name": "Python 3",
   "language": "python",
   "name": "python3"
  },
  "language_info": {
   "codemirror_mode": {
    "name": "ipython",
    "version": 3
   },
   "file_extension": ".py",
   "mimetype": "text/x-python",
   "name": "python",
   "nbconvert_exporter": "python",
   "pygments_lexer": "ipython3",
   "version": "3.7.3"
  }
 },
 "nbformat": 4,
 "nbformat_minor": 2
}
