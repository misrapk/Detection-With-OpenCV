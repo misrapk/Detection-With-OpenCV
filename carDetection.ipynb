{
 "cells": [
  {
   "cell_type": "code",
   "execution_count": 5,
   "metadata": {},
   "outputs": [],
   "source": [
    "import cv2\n",
    "car_cascade = cv2.CascadeClassifier('C:\\\\Users\\\\pkmis\\\\Documents\\\\Machine learning\\\\Detection OpenCV\\\\Car Detection\\\\data\\\\cars.xml')\n",
    "#path = input(\"enter path of video: \")\n",
    "path = \"C:\\\\Users\\\\pkmis\\\\Documents\\\\Machine learning\\\\projects\\\\countingCar\\\\CarsDrivingUnderBridge.mp4\"\n",
    "cam = cv2.VideoCapture(path)\n",
    "text = \"car\"\n",
    "count = 0\n",
    "\n",
    "while True:\n",
    "    ret, frame= cam.read()\n",
    "#     print(ret)\n",
    "    count +=1\n",
    "    gray = cv2.cvtColor(frame, cv2.COLOR_BGR2GRAY)\n",
    "    car = car_cascade.detectMultiScale(gray, 1.1,5)\n",
    "    \n",
    "    for (x,y,w,h) in car:\n",
    "        cv2.rectangle(frame,(x,y), (x+w, y+h), (0,0,250),2)\n",
    "#         count+=1\n",
    "#         print(x)\n",
    "        cv2.putText(frame,text,(x,y-10),cv2.FONT_HERSHEY_PLAIN,1,(0,255,255),1)\n",
    "    cv2.imshow(\"videoDetection\", frame)\n",
    "    if cv2.waitKey(30) == 27:\n",
    "        break\n",
    "        \n",
    "cv2.destroyAllWindows()"
   ]
  },
  {
   "cell_type": "code",
   "execution_count": null,
   "metadata": {},
   "outputs": [],
   "source": []
  },
  {
   "cell_type": "code",
   "execution_count": null,
   "metadata": {},
   "outputs": [],
   "source": []
  }
 ],
 "metadata": {
  "kernelspec": {
   "display_name": "Python 3",
   "language": "python",
   "name": "python3"
  },
  "language_info": {
   "codemirror_mode": {
    "name": "ipython",
    "version": 3
   },
   "file_extension": ".py",
   "mimetype": "text/x-python",
   "name": "python",
   "nbconvert_exporter": "python",
   "pygments_lexer": "ipython3",
   "version": "3.7.3"
  }
 },
 "nbformat": 4,
 "nbformat_minor": 2
}
